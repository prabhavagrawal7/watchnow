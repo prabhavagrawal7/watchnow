{
 "cells": [
  {
   "cell_type": "code",
   "execution_count": 83,
   "id": "128bee7d-96e1-440b-b560-bb34ddc0e164",
   "metadata": {},
   "outputs": [],
   "source": [
    "import numpy as np"
   ]
  },
  {
   "cell_type": "code",
   "execution_count": null,
   "id": "4497a064-d3e8-4567-9a1e-87dd8b81c1e6",
   "metadata": {},
   "outputs": [],
   "source": [
    "import pandas as pd\n",
    "import matplotlib.pyplot as plt\n",
    "import seaborn as sns"
   ]
  },
  {
   "cell_type": "code",
   "execution_count": null,
   "id": "0a52d43c-8d61-494e-b357-62e980045780",
   "metadata": {},
   "outputs": [],
   "source": [
    "df = pd.read_json('./ratings.json', lines = True)"
   ]
  },
  {
   "cell_type": "code",
   "execution_count": null,
   "id": "12eb4842-1b58-4103-872e-478466478f5a",
   "metadata": {},
   "outputs": [],
   "source": []
  }
 ],
 "metadata": {
  "kernelspec": {
   "display_name": "Python 3 (ipykernel)",
   "language": "python",
   "name": "python3"
  },
  "language_info": {
   "codemirror_mode": {
    "name": "ipython",
    "version": 3
   },
   "file_extension": ".py",
   "mimetype": "text/x-python",
   "name": "python",
   "nbconvert_exporter": "python",
   "pygments_lexer": "ipython3",
   "version": "3.9.12"
  }
 },
 "nbformat": 4,
 "nbformat_minor": 5
}
