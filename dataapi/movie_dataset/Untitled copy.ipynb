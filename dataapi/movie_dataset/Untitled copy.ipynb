{
 "cells": [
  {
   "cell_type": "code",
   "execution_count": 1,
   "id": "128bee7d-96e1-440b-b560-bb34ddc0e164",
   "metadata": {},
   "outputs": [],
   "source": [
    "import numpy as np"
   ]
  },
  {
   "cell_type": "code",
   "execution_count": 2,
   "id": "4497a064-d3e8-4567-9a1e-87dd8b81c1e6",
   "metadata": {},
   "outputs": [],
   "source": [
    "import pandas as pd\n",
    "import matplotlib.pyplot as plt\n",
    "import seaborn as sns"
   ]
  },
  {
   "cell_type": "code",
   "execution_count": 3,
   "id": "0a52d43c-8d61-494e-b357-62e980045780",
   "metadata": {},
   "outputs": [],
   "source": [
    "df = pd.read_json('./ratings.json', lines = True)"
   ]
  },
  {
   "cell_type": "code",
   "execution_count": 4,
   "id": "c0b51426-23d6-401b-9a10-89edbd837b95",
   "metadata": {},
   "outputs": [
    {
     "data": {
      "text/html": [
       "<div>\n",
       "<style scoped>\n",
       "    .dataframe tbody tr th:only-of-type {\n",
       "        vertical-align: middle;\n",
       "    }\n",
       "\n",
       "    .dataframe tbody tr th {\n",
       "        vertical-align: top;\n",
       "    }\n",
       "\n",
       "    .dataframe thead th {\n",
       "        text-align: right;\n",
       "    }\n",
       "</style>\n",
       "<table border=\"1\" class=\"dataframe\">\n",
       "  <thead>\n",
       "    <tr style=\"text-align: right;\">\n",
       "      <th></th>\n",
       "      <th>item_id</th>\n",
       "      <th>user_id</th>\n",
       "      <th>rating</th>\n",
       "    </tr>\n",
       "  </thead>\n",
       "  <tbody>\n",
       "    <tr>\n",
       "      <th>0</th>\n",
       "      <td>5</td>\n",
       "      <td>997206</td>\n",
       "      <td>3.0</td>\n",
       "    </tr>\n",
       "    <tr>\n",
       "      <th>1</th>\n",
       "      <td>10</td>\n",
       "      <td>997206</td>\n",
       "      <td>4.0</td>\n",
       "    </tr>\n",
       "    <tr>\n",
       "      <th>2</th>\n",
       "      <td>13</td>\n",
       "      <td>997206</td>\n",
       "      <td>4.0</td>\n",
       "    </tr>\n",
       "    <tr>\n",
       "      <th>3</th>\n",
       "      <td>17</td>\n",
       "      <td>997206</td>\n",
       "      <td>5.0</td>\n",
       "    </tr>\n",
       "    <tr>\n",
       "      <th>4</th>\n",
       "      <td>21</td>\n",
       "      <td>997206</td>\n",
       "      <td>4.0</td>\n",
       "    </tr>\n",
       "  </tbody>\n",
       "</table>\n",
       "</div>"
      ],
      "text/plain": [
       "   item_id  user_id  rating\n",
       "0        5   997206     3.0\n",
       "1       10   997206     4.0\n",
       "2       13   997206     4.0\n",
       "3       17   997206     5.0\n",
       "4       21   997206     4.0"
      ]
     },
     "execution_count": 4,
     "metadata": {},
     "output_type": "execute_result"
    }
   ],
   "source": [
    "df.head()"
   ]
  },
  {
   "cell_type": "code",
   "execution_count": 5,
   "id": "0df16ded-9c21-422d-ac47-222c7a0321e7",
   "metadata": {},
   "outputs": [],
   "source": [
    "df = df[~((df['item_id'] == 6003) | (df['item_id'] == 27611) | (df['item_id'] == 66934))]"
   ]
  },
  {
   "cell_type": "code",
   "execution_count": 6,
   "id": "8ab4c895-40ad-4cfb-9fee-1aeb142bdbfd",
   "metadata": {},
   "outputs": [
    {
     "data": {
      "text/plain": [
       "item_id\n",
       "318       98967\n",
       "356       97772\n",
       "296       93156\n",
       "593       88573\n",
       "2571      85431\n",
       "          ...  \n",
       "172607        1\n",
       "172627        1\n",
       "172639        1\n",
       "172649        1\n",
       "237187        1\n",
       "Name: user_id, Length: 67870, dtype: int64"
      ]
     },
     "execution_count": 6,
     "metadata": {},
     "output_type": "execute_result"
    }
   ],
   "source": [
    "df.groupby('item_id')['user_id'].count().sort_values(ascending=False)"
   ]
  },
  {
   "cell_type": "code",
   "execution_count": 7,
   "id": "b013768f-7d2a-484d-8ee7-4e44f3f7f78d",
   "metadata": {},
   "outputs": [],
   "source": [
    "movie_details = pd.read_json('./metadata_updated.json', lines=True)"
   ]
  },
  {
   "cell_type": "code",
   "execution_count": 8,
   "id": "2f57a791-3ab3-4787-ae62-06609d25f5e4",
   "metadata": {},
   "outputs": [],
   "source": [
    "i = 0\n",
    "while i != len(movie_details['title']):\n",
    "    data = movie_details['title'].iloc[i]\n",
    "    try:\n",
    "        data.split()[-1].split('(')[1].split(')')[0]\n",
    "        i = i+1\n",
    "    except:\n",
    "        movie_details = movie_details[movie_details['title'] != data]"
   ]
  },
  {
   "cell_type": "code",
   "execution_count": 9,
   "id": "a6238da5-64f9-4415-b64a-208dda25d85e",
   "metadata": {},
   "outputs": [],
   "source": [
    "i = 0\n",
    "while i != len(movie_details['title']):\n",
    "    data = movie_details['title'].iloc[i]\n",
    "    try:\n",
    "        int(data.split(')')[-2].split('(')[-1])\n",
    "        i = i+1\n",
    "    except:\n",
    "        movie_details = movie_details[movie_details['title'] != data]"
   ]
  },
  {
   "cell_type": "code",
   "execution_count": 10,
   "id": "6ba68c08-46e9-4b65-945b-1f180d579fa6",
   "metadata": {},
   "outputs": [],
   "source": [
    "movie_details['dob'] = movie_details['title'].apply(lambda x: int(x.split(')')[-2].split('(')[-1]))"
   ]
  },
  {
   "cell_type": "code",
   "execution_count": 11,
   "id": "89dcd740-54b6-4a5c-875c-f8b2934f478d",
   "metadata": {},
   "outputs": [],
   "source": [
    "movie_details = movie_details[movie_details['dob'] >= 2000]"
   ]
  },
  {
   "cell_type": "code",
   "execution_count": 12,
   "id": "44fcb523-4185-459a-9ed3-734f079edf7d",
   "metadata": {},
   "outputs": [
    {
     "name": "stdout",
     "output_type": "stream",
     "text": [
      "<class 'pandas.core.frame.DataFrame'>\n",
      "Int64Index: 28476935 entries, 0 to 28490115\n",
      "Data columns (total 3 columns):\n",
      " #   Column   Dtype  \n",
      "---  ------   -----  \n",
      " 0   item_id  int64  \n",
      " 1   user_id  int64  \n",
      " 2   rating   float64\n",
      "dtypes: float64(1), int64(2)\n",
      "memory usage: 869.0 MB\n"
     ]
    }
   ],
   "source": [
    "df.info()"
   ]
  },
  {
   "cell_type": "code",
   "execution_count": 13,
   "id": "df4ec716-6971-486a-930c-b80f4be82d4e",
   "metadata": {},
   "outputs": [],
   "source": [
    "df = df.merge(movie_details, on='item_id')"
   ]
  },
  {
   "cell_type": "code",
   "execution_count": 14,
   "id": "d939cfef-4bed-4682-9675-48998366bafb",
   "metadata": {},
   "outputs": [
    {
     "data": {
      "text/plain": [
       "item_id\n",
       "4993      62701\n",
       "7153      58158\n",
       "5952      57469\n",
       "3578      49327\n",
       "4306      47430\n",
       "          ...  \n",
       "195675        1\n",
       "138372        1\n",
       "138374        1\n",
       "195667        1\n",
       "237131        1\n",
       "Name: user_id, Length: 37998, dtype: int64"
      ]
     },
     "execution_count": 14,
     "metadata": {},
     "output_type": "execute_result"
    }
   ],
   "source": [
    "df.groupby('item_id')['user_id'].count().sort_values(ascending=False)"
   ]
  },
  {
   "cell_type": "code",
   "execution_count": 15,
   "id": "51e4a856-fc9c-4431-ba45-3603246ec43b",
   "metadata": {},
   "outputs": [
    {
     "data": {
      "text/plain": [
       "4494"
      ]
     },
     "execution_count": 15,
     "metadata": {},
     "output_type": "execute_result"
    }
   ],
   "source": [
    "len(df[df['item_id'] == 122912]) # my favourite movie"
   ]
  },
  {
   "cell_type": "code",
   "execution_count": 16,
   "id": "d3fc65e2-39f8-4784-824f-7e4db25cde60",
   "metadata": {},
   "outputs": [],
   "source": [
    "import matplotlib.pyplot as plt\n",
    "%matplotlib inline"
   ]
  },
  {
   "cell_type": "code",
   "execution_count": 17,
   "id": "c749c2d7-7326-493c-937e-589755351ef7",
   "metadata": {},
   "outputs": [],
   "source": [
    "Y = df.groupby('item_id')['user_id'].count().sort_values(ascending=False).tolist()"
   ]
  },
  {
   "cell_type": "code",
   "execution_count": 18,
   "id": "e57b4fec-396a-4ebb-9208-4620d315f020",
   "metadata": {},
   "outputs": [
    {
     "data": {
      "text/plain": [
       "37998"
      ]
     },
     "execution_count": 18,
     "metadata": {},
     "output_type": "execute_result"
    }
   ],
   "source": [
    "len(Y)"
   ]
  },
  {
   "cell_type": "code",
   "execution_count": 19,
   "id": "47cc0316-015d-4dd1-afa4-b0f377ec7b21",
   "metadata": {},
   "outputs": [],
   "source": [
    "X = np.arange(len(Y));"
   ]
  },
  {
   "cell_type": "code",
   "execution_count": 20,
   "id": "79764966-cf28-41d7-841d-55c993834fa4",
   "metadata": {},
   "outputs": [
    {
     "data": {
      "text/plain": [
       "[<matplotlib.lines.Line2D at 0x13f57edc0>]"
      ]
     },
     "execution_count": 20,
     "metadata": {},
     "output_type": "execute_result"
    },
    {
     "data": {
      "image/png": "[encoded data removed]",
      "text/plain": [
       "<Figure size 432x288 with 1 Axes>"
      ]
     },
     "metadata": {
      "needs_background": "light"
     },
     "output_type": "display_data"
    }
   ],
   "source": [
    "plt.plot(X, Y, 'r')"
   ]
  },
  {
   "cell_type": "code",
   "execution_count": 21,
   "id": "89624644-5d59-4dd5-b1e4-708c564c3cfe",
   "metadata": {},
   "outputs": [],
   "source": [
    "Y_ = X*0"
   ]
  },
  {
   "cell_type": "code",
   "execution_count": 22,
   "id": "d5ed906a-d032-4e05-85e0-3732c94ec97c",
   "metadata": {},
   "outputs": [
    {
     "data": {
      "text/plain": [
       "[<matplotlib.lines.Line2D at 0x13eb9b940>]"
      ]
     },
     "execution_count": 22,
     "metadata": {},
     "output_type": "execute_result"
    },
    {
     "data": {
      "image/png": "[encoded data removed]",
      "text/plain": [
       "<Figure size 432x288 with 1 Axes>"
      ]
     },
     "metadata": {
      "needs_background": "light"
     },
     "output_type": "display_data"
    }
   ],
   "source": [
    "plt.plot(X, Y_+2000, 'b')\n",
    "plt.plot(X, Y, 'r')"
   ]
  },
  {
   "cell_type": "code",
   "execution_count": 23,
   "id": "90e4f16f-5f1e-432b-ad0c-c5cfcd364373",
   "metadata": {},
   "outputs": [],
   "source": [
    "movie_rating_count = df.groupby('item_id')['user_id'].count().sort_values(ascending=False)"
   ]
  },
  {
   "cell_type": "code",
   "execution_count": 24,
   "id": "36772388-61be-4cbb-a53c-c7a8bcabf864",
   "metadata": {},
   "outputs": [],
   "source": [
    "nmovie_rating_count= movie_rating_count[movie_rating_count > 2000]"
   ]
  },
  {
   "cell_type": "code",
   "execution_count": 25,
   "id": "9377aaf5-724b-4ba3-945d-6a2409454a4a",
   "metadata": {},
   "outputs": [],
   "source": [
    "movies_rectified = pd.DataFrame(nmovie_rating_count.index)"
   ]
  },
  {
   "cell_type": "code",
   "execution_count": 26,
   "id": "92f5c941-ec2e-4d30-9fad-44615c9aca75",
   "metadata": {},
   "outputs": [],
   "source": [
    "df = df.merge(movies_rectified, on='item_id')"
   ]
  },
  {
   "cell_type": "code",
   "execution_count": 27,
   "id": "81ce5651-8bb4-4864-bf86-9654b4c67ec3",
   "metadata": {},
   "outputs": [
    {
     "name": "stdout",
     "output_type": "stream",
     "text": [
      "<class 'pandas.core.frame.DataFrame'>\n",
      "Int64Index: 7774440 entries, 0 to 7774439\n",
      "Data columns (total 9 columns):\n",
      " #   Column      Dtype  \n",
      "---  ------      -----  \n",
      " 0   item_id     int64  \n",
      " 1   user_id     int64  \n",
      " 2   rating      float64\n",
      " 3   title       object \n",
      " 4   directedBy  object \n",
      " 5   starring    object \n",
      " 6   avgRating   float64\n",
      " 7   imdbId      int64  \n",
      " 8   dob         int64  \n",
      "dtypes: float64(2), int64(4), object(3)\n",
      "memory usage: 593.1+ MB\n"
     ]
    }
   ],
   "source": [
    "df.info()"
   ]
  },
  {
   "cell_type": "code",
   "execution_count": 28,
   "id": "c57621de-9557-423e-8455-00162ba77822",
   "metadata": {},
   "outputs": [
    {
     "data": {
      "text/html": [
       "<div>\n",
       "<style scoped>\n",
       "    .dataframe tbody tr th:only-of-type {\n",
       "        vertical-align: middle;\n",
       "    }\n",
       "\n",
       "    .dataframe tbody tr th {\n",
       "        vertical-align: top;\n",
       "    }\n",
       "\n",
       "    .dataframe thead th {\n",
       "        text-align: right;\n",
       "    }\n",
       "</style>\n",
       "<table border=\"1\" class=\"dataframe\">\n",
       "  <thead>\n",
       "    <tr style=\"text-align: right;\">\n",
       "      <th></th>\n",
       "      <th>item_id</th>\n",
       "      <th>user_id</th>\n",
       "      <th>rating</th>\n",
       "      <th>title</th>\n",
       "      <th>directedBy</th>\n",
       "      <th>starring</th>\n",
       "      <th>avgRating</th>\n",
       "      <th>imdbId</th>\n",
       "      <th>dob</th>\n",
       "    </tr>\n",
       "  </thead>\n",
       "  <tbody>\n",
       "    <tr>\n",
       "      <th>0</th>\n",
       "      <td>3275</td>\n",
       "      <td>222768</td>\n",
       "      <td>1.0</td>\n",
       "      <td>Boondock Saints, The (2000)</td>\n",
       "      <td>Troy Duffy</td>\n",
       "      <td>Willem Dafoe, David Della Rocco, Sean Patrick ...</td>\n",
       "      <td>3.87081</td>\n",
       "      <td>144117</td>\n",
       "      <td>2000</td>\n",
       "    </tr>\n",
       "    <tr>\n",
       "      <th>1</th>\n",
       "      <td>3275</td>\n",
       "      <td>675368</td>\n",
       "      <td>2.0</td>\n",
       "      <td>Boondock Saints, The (2000)</td>\n",
       "      <td>Troy Duffy</td>\n",
       "      <td>Willem Dafoe, David Della Rocco, Sean Patrick ...</td>\n",
       "      <td>3.87081</td>\n",
       "      <td>144117</td>\n",
       "      <td>2000</td>\n",
       "    </tr>\n",
       "    <tr>\n",
       "      <th>2</th>\n",
       "      <td>3275</td>\n",
       "      <td>10010</td>\n",
       "      <td>5.0</td>\n",
       "      <td>Boondock Saints, The (2000)</td>\n",
       "      <td>Troy Duffy</td>\n",
       "      <td>Willem Dafoe, David Della Rocco, Sean Patrick ...</td>\n",
       "      <td>3.87081</td>\n",
       "      <td>144117</td>\n",
       "      <td>2000</td>\n",
       "    </tr>\n",
       "    <tr>\n",
       "      <th>3</th>\n",
       "      <td>3275</td>\n",
       "      <td>132140</td>\n",
       "      <td>2.0</td>\n",
       "      <td>Boondock Saints, The (2000)</td>\n",
       "      <td>Troy Duffy</td>\n",
       "      <td>Willem Dafoe, David Della Rocco, Sean Patrick ...</td>\n",
       "      <td>3.87081</td>\n",
       "      <td>144117</td>\n",
       "      <td>2000</td>\n",
       "    </tr>\n",
       "    <tr>\n",
       "      <th>4</th>\n",
       "      <td>3275</td>\n",
       "      <td>664065</td>\n",
       "      <td>4.0</td>\n",
       "      <td>Boondock Saints, The (2000)</td>\n",
       "      <td>Troy Duffy</td>\n",
       "      <td>Willem Dafoe, David Della Rocco, Sean Patrick ...</td>\n",
       "      <td>3.87081</td>\n",
       "      <td>144117</td>\n",
       "      <td>2000</td>\n",
       "    </tr>\n",
       "  </tbody>\n",
       "</table>\n",
       "</div>"
      ],
      "text/plain": [
       "   item_id  user_id  rating                        title  directedBy  \\\n",
       "0     3275   222768     1.0  Boondock Saints, The (2000)  Troy Duffy   \n",
       "1     3275   675368     2.0  Boondock Saints, The (2000)  Troy Duffy   \n",
       "2     3275    10010     5.0  Boondock Saints, The (2000)  Troy Duffy   \n",
       "3     3275   132140     2.0  Boondock Saints, The (2000)  Troy Duffy   \n",
       "4     3275   664065     4.0  Boondock Saints, The (2000)  Troy Duffy   \n",
       "\n",
       "                                            starring  avgRating  imdbId   dob  \n",
       "0  Willem Dafoe, David Della Rocco, Sean Patrick ...    3.87081  144117  2000  \n",
       "1  Willem Dafoe, David Della Rocco, Sean Patrick ...    3.87081  144117  2000  \n",
       "2  Willem Dafoe, David Della Rocco, Sean Patrick ...    3.87081  144117  2000  \n",
       "3  Willem Dafoe, David Della Rocco, Sean Patrick ...    3.87081  144117  2000  \n",
       "4  Willem Dafoe, David Della Rocco, Sean Patrick ...    3.87081  144117  2000  "
      ]
     },
     "execution_count": 28,
     "metadata": {},
     "output_type": "execute_result"
    }
   ],
   "source": [
    "df.head()"
   ]
  },
  {
   "cell_type": "code",
   "execution_count": 29,
   "id": "aa1e4695-c60f-45c4-b24a-14cdfa0d770d",
   "metadata": {},
   "outputs": [],
   "source": [
    "newdf = df.drop(['title', 'directedBy', 'starring', 'avgRating', 'imdbId', 'dob'], axis=1)"
   ]
  },
  {
   "cell_type": "code",
   "execution_count": 30,
   "id": "f2a910a7-53fc-4f42-9aa3-c2b557b09c9e",
   "metadata": {},
   "outputs": [
    {
     "name": "stdout",
     "output_type": "stream",
     "text": [
      "<class 'pandas.core.frame.DataFrame'>\n",
      "Int64Index: 7763860 entries, 0 to 7774439\n",
      "Data columns (total 3 columns):\n",
      " #   Column   Dtype  \n",
      "---  ------   -----  \n",
      " 0   item_id  int64  \n",
      " 1   user_id  int64  \n",
      " 2   rating   float64\n",
      "dtypes: float64(1), int64(2)\n",
      "memory usage: 236.9 MB\n"
     ]
    }
   ],
   "source": [
    "newdf.drop_duplicates().info()"
   ]
  },
  {
   "cell_type": "code",
   "execution_count": 31,
   "id": "b8b74543-019b-4568-85ba-b667b2a525c1",
   "metadata": {},
   "outputs": [
    {
     "name": "stdout",
     "output_type": "stream",
     "text": [
      "<class 'pandas.core.frame.DataFrame'>\n",
      "Int64Index: 7774440 entries, 0 to 7774439\n",
      "Data columns (total 3 columns):\n",
      " #   Column   Dtype  \n",
      "---  ------   -----  \n",
      " 0   item_id  int64  \n",
      " 1   user_id  int64  \n",
      " 2   rating   float64\n",
      "dtypes: float64(1), int64(2)\n",
      "memory usage: 237.3 MB\n"
     ]
    }
   ],
   "source": [
    "newdf.info()"
   ]
  },
  {
   "cell_type": "code",
   "execution_count": 32,
   "id": "defa32a2-1a67-437d-ac48-738efeb25aa6",
   "metadata": {},
   "outputs": [],
   "source": [
    "newdf.drop_duplicates(inplace=True)"
   ]
  },
  {
   "cell_type": "code",
   "execution_count": 34,
   "id": "ba0ace11-466e-41b8-8703-5cc749cd777c",
   "metadata": {},
   "outputs": [],
   "source": [
    "newdf = pd.DataFrame(newdf.groupby(['item_id', 'user_id'])['rating'].mean())"
   ]
  },
  {
   "cell_type": "code",
   "execution_count": 35,
   "id": "f3c2507b-8991-4f5c-b090-1dba7194847b",
   "metadata": {},
   "outputs": [],
   "source": [
    "newdf.reset_index(inplace = True)"
   ]
  },
  {
   "cell_type": "code",
   "execution_count": 36,
   "id": "1e3ef513-d844-4d7a-b944-82d2f3d629d9",
   "metadata": {},
   "outputs": [],
   "source": [
    "movie_ratings = newdf.pivot(values = 'rating', index = 'item_id', columns = 'user_id')"
   ]
  },
  {
   "cell_type": "code",
   "execution_count": 37,
   "id": "bbefa1b4-c975-4813-b442-5ebd35dda337",
   "metadata": {},
   "outputs": [
    {
     "data": {
      "text/plain": [
       "4"
      ]
     },
     "execution_count": 37,
     "metadata": {},
     "output_type": "execute_result"
    }
   ],
   "source": [
    "import gc\n",
    "gc.collect()"
   ]
  },
  {
   "cell_type": "code",
   "execution_count": 38,
   "id": "85969003-158b-4312-84bf-c38caa831e47",
   "metadata": {},
   "outputs": [],
   "source": [
    "movie_ratings = movie_ratings.fillna(0).reset_index()"
   ]
  },
  {
   "cell_type": "code",
   "execution_count": 39,
   "id": "df8828f3-c35a-4c09-b8a6-ee9d0e6eb157",
   "metadata": {},
   "outputs": [],
   "source": [
    "movie_details = df[['item_id', 'dob', 'starring', 'avgRating', 'directedBy']].drop_duplicates()"
   ]
  },
  {
   "cell_type": "code",
   "execution_count": 53,
   "id": "12f277f8",
   "metadata": {},
   "outputs": [
    {
     "data": {
      "text/plain": [
       "Int64Index([  4993,   7153,   5952,   3578,   4306,  58559,   4226,  79132,\n",
       "              6539,   4973,\n",
       "            ...\n",
       "              5784,   3987,  39435, 112515,  79057,   4155,   5093,  53956,\n",
       "              4228,   4387],\n",
       "           dtype='int64', name='item_id', length=1048)"
      ]
     },
     "execution_count": 53,
     "metadata": {},
     "output_type": "execute_result"
    }
   ],
   "source": [
    "newdf.groupby('item_id')['user_id'].count().sort_values(ascending=False).index"
   ]
  },
  {
   "cell_type": "code",
   "execution_count": null,
   "id": "0a2d9288-6504-4812-b5d1-a11f650dce2c",
   "metadata": {
    "tags": []
   },
   "outputs": [],
   "source": [
    "import gc\n",
    "del df"
   ]
  },
  {
   "cell_type": "code",
   "execution_count": null,
   "id": "b23f7628-499a-4690-99c9-cacf19b9b43e",
   "metadata": {},
   "outputs": [],
   "source": [
    "gc.collect()"
   ]
  },
  {
   "cell_type": "code",
   "execution_count": null,
   "id": "037892b1-c647-44ff-bdc2-fb30f1e6382d",
   "metadata": {},
   "outputs": [],
   "source": [
    "from sklearn.feature_extraction.text import CountVectorizer\n",
    "cv = CountVectorizer(tokenizer=lambda x: [y.strip() for y in x.split(',')])"
   ]
  },
  {
   "cell_type": "code",
   "execution_count": null,
   "id": "744e5c4d-ef49-4ffa-b4f7-b1b11b805125",
   "metadata": {},
   "outputs": [],
   "source": [
    "movie_features = cv.fit_transform(movie_details['starring']).toarray()"
   ]
  },
  {
   "cell_type": "code",
   "execution_count": null,
   "id": "b71d42e1-9be4-45a9-a049-5f95129ed0b3",
   "metadata": {},
   "outputs": [],
   "source": [
    "movie_features = pd.DataFrame(movie_features)"
   ]
  },
  {
   "cell_type": "code",
   "execution_count": null,
   "id": "dd356954-de01-48af-9c50-1a1c13e0a257",
   "metadata": {},
   "outputs": [],
   "source": [
    "movie_features['item_id'] = movie_ratings['item_id']"
   ]
  },
  {
   "cell_type": "code",
   "execution_count": null,
   "id": "7938c086-3451-430a-9769-a44ef3df55a8",
   "metadata": {},
   "outputs": [],
   "source": [
    "cv1 = CountVectorizer()\n",
    "extra_features = cv1.fit_transform(movie_details['directedBy']).toarray()"
   ]
  },
  {
   "cell_type": "code",
   "execution_count": null,
   "id": "2c09d36d-b33d-4572-bfa2-5080550cea9c",
   "metadata": {},
   "outputs": [],
   "source": [
    "extra_features = pd.DataFrame(extra_features)"
   ]
  },
  {
   "cell_type": "code",
   "execution_count": null,
   "id": "9de92698-c175-4623-ab6a-f83953c13a99",
   "metadata": {},
   "outputs": [],
   "source": [
    "extra_features.head()"
   ]
  },
  {
   "cell_type": "code",
   "execution_count": null,
   "id": "eb46daa3-e51c-4f88-ae7e-a774d892f7ab",
   "metadata": {},
   "outputs": [],
   "source": [
    "extra_features['item_id'] = movie_ratings['item_id']"
   ]
  },
  {
   "cell_type": "code",
   "execution_count": null,
   "id": "d5bb8eb7-1c8d-4399-93e6-a35f7cade6bd",
   "metadata": {},
   "outputs": [],
   "source": [
    "total_features = movie_ratings.merge(movie_features, on='item_id').merge(extra_features, on='item_id')"
   ]
  },
  {
   "cell_type": "code",
   "execution_count": null,
   "id": "421ca354-ca91-45f4-b965-c03563760233",
   "metadata": {},
   "outputs": [],
   "source": [
    "total_features.head()"
   ]
  },
  {
   "cell_type": "code",
   "execution_count": null,
   "id": "3411e979-1729-4f78-9cac-e033aa75d981",
   "metadata": {},
   "outputs": [],
   "source": [
    "total_features.shape"
   ]
  },
  {
   "cell_type": "code",
   "execution_count": null,
   "id": "1027629f-46c7-412b-a883-2d5e7cd049d1",
   "metadata": {},
   "outputs": [],
   "source": [
    "from sklearn.preprocessing import StandardScaler\n",
    "scaler = StandardScaler()"
   ]
  },
  {
   "cell_type": "code",
   "execution_count": null,
   "id": "503b68a1-1522-4ebf-b725-673e3196f6d9",
   "metadata": {},
   "outputs": [],
   "source": [
    "scaler.fit(total_features.values)"
   ]
  },
  {
   "cell_type": "code",
   "execution_count": null,
   "id": "d9521345-7fd1-4e7e-ba79-fa95105106dd",
   "metadata": {},
   "outputs": [],
   "source": [
    "scaler_transformed = scaler.transform(total_features.values)"
   ]
  },
  {
   "cell_type": "code",
   "execution_count": null,
   "id": "b6ef16d9-9c4a-43e1-95d1-3e460fc887d4",
   "metadata": {},
   "outputs": [],
   "source": [
    "from sklearn.decomposition import PCA"
   ]
  },
  {
   "cell_type": "code",
   "execution_count": null,
   "id": "52bfac7e-7aae-4c8d-a3cc-96e5b3ee6e26",
   "metadata": {},
   "outputs": [],
   "source": [
    "pca = PCA(n_components=100)"
   ]
  },
  {
   "cell_type": "code",
   "execution_count": null,
   "id": "95a3820c-be16-44a5-8672-34941d4be1b2",
   "metadata": {},
   "outputs": [],
   "source": [
    "pca.fit(scaler_transformed)"
   ]
  },
  {
   "cell_type": "code",
   "execution_count": null,
   "id": "34754711-d034-4acd-aa3f-dc7f1aa43f71",
   "metadata": {},
   "outputs": [],
   "source": [
    "transformed_data = pca.transform(scaler_transformed)"
   ]
  },
  {
   "cell_type": "code",
   "execution_count": null,
   "id": "be4d2201-d1b4-494e-85ef-2566f9ae8242",
   "metadata": {},
   "outputs": [],
   "source": [
    "from sklearn.neighbors import NearestNeighbors\n",
    "model = NearestNeighbors(algorithm='brute', metric='cosine', n_jobs=-1, n_neighbors=21)"
   ]
  },
  {
   "cell_type": "code",
   "execution_count": null,
   "id": "b172c71d-3afa-4949-ac96-86ec1491b67a",
   "metadata": {},
   "outputs": [],
   "source": [
    "model.fit(transformed_data)"
   ]
  },
  {
   "cell_type": "code",
   "execution_count": null,
   "id": "c8dfb55d-4ae1-45b4-86cf-e76bce13885b",
   "metadata": {},
   "outputs": [],
   "source": [
    "model.kneighbors(transformed_data)[1][0]"
   ]
  },
  {
   "cell_type": "code",
   "execution_count": null,
   "id": "661b9ec2-21c1-4a63-a350-282c41dd7806",
   "metadata": {},
   "outputs": [],
   "source": [
    "checkarry = model.kneighbors(transformed_data)[1][0]"
   ]
  },
  {
   "cell_type": "code",
   "execution_count": null,
   "id": "c77e9737-fc80-4ff5-b899-e2f5e50b3d19",
   "metadata": {},
   "outputs": [],
   "source": [
    "check_movie_items = pd.DataFrame(checkarry)"
   ]
  },
  {
   "cell_type": "code",
   "execution_count": null,
   "id": "8ed6f979-0d6b-411a-ac2d-79aba0f74b20",
   "metadata": {},
   "outputs": [],
   "source": [
    "check_movie_items.head()"
   ]
  },
  {
   "cell_type": "code",
   "execution_count": null,
   "id": "b7123f53-1f35-4247-b099-35cf0f9713ba",
   "metadata": {},
   "outputs": [],
   "source": [
    "check_movie_items.rename(columns={0:'movie_loc'}, inplace=True)"
   ]
  },
  {
   "cell_type": "code",
   "execution_count": null,
   "id": "ac3eaf8a-966a-4644-9377-6899601611ca",
   "metadata": {},
   "outputs": [],
   "source": [
    "check_movie_items['item_id'] = check_movie_items['movie_loc'].apply(lambda x: movie_ratings['item_id'].iloc[x])"
   ]
  },
  {
   "cell_type": "code",
   "execution_count": null,
   "id": "15b1b939-7068-45fc-8406-eacd8f2afeae",
   "metadata": {},
   "outputs": [],
   "source": [
    "check_movie_items.head()"
   ]
  },
  {
   "cell_type": "code",
   "execution_count": null,
   "id": "d539b84f-0074-4d88-b174-f3548012c0c2",
   "metadata": {},
   "outputs": [],
   "source": [
    "movie_indexes=movie_features['item_id'].tolist()"
   ]
  },
  {
   "cell_type": "code",
   "execution_count": null,
   "id": "3eece523-0da4-4774-9b7c-b660f2a58349",
   "metadata": {},
   "outputs": [],
   "source": [
    "\"\"\"\n",
    "Saving features using joblib\n",
    "1. model\n",
    "5. transformed_data\n",
    "6. movie_index\n",
    "\"\"\"\n",
    "from joblib import dump\n",
    "dump((model, transformed_data, movie_indexes),  './required_contents.joblib')"
   ]
  },
  {
   "cell_type": "code",
   "execution_count": null,
   "id": "b499d28a-e58b-4be0-bcbe-965f7a8f7bec",
   "metadata": {},
   "outputs": [],
   "source": [
    "movie_details = pd.read_json('metadata_updated.json', lines = True)"
   ]
  },
  {
   "cell_type": "code",
   "execution_count": null,
   "id": "b2650df1-1442-457d-b7e3-14fb3e8f5b5b",
   "metadata": {
    "tags": []
   },
   "outputs": [],
   "source": [
    "links = movie_details[['item_id', 'imdbId']]"
   ]
  },
  {
   "cell_type": "code",
   "execution_count": null,
   "id": "5893eae0-263f-4ee6-99d8-a44afa5431fd",
   "metadata": {},
   "outputs": [],
   "source": [
    "links = links.merge(movie_features['item_id'])"
   ]
  },
  {
   "cell_type": "code",
   "execution_count": null,
   "id": "d965db23-96b3-4428-8a02-0b3f120e6134",
   "metadata": {},
   "outputs": [],
   "source": [
    "links.rename({'item_id': 'movieId'}, axis=1, inplace=True)"
   ]
  },
  {
   "cell_type": "code",
   "execution_count": null,
   "id": "d0e683ed-0b1c-4221-a513-0a9eaaff22b0",
   "metadata": {},
   "outputs": [],
   "source": [
    "links.head()"
   ]
  },
  {
   "cell_type": "code",
   "execution_count": null,
   "id": "362ddeeb-3d24-42f6-b249-ae0c2a3b98e0",
   "metadata": {},
   "outputs": [],
   "source": [
    "links.to_csv('./links.csv')"
   ]
  },
  {
   "cell_type": "code",
   "execution_count": null,
   "id": "421c8b6a-54c0-40df-8347-0db359fd9e2a",
   "metadata": {},
   "outputs": [],
   "source": [
    "movie_loc = pd.DataFrame(movie_indexes, columns=['item_id'])"
   ]
  },
  {
   "cell_type": "code",
   "execution_count": null,
   "id": "fe80afb6-125c-43fe-9d10-c9a31b870542",
   "metadata": {},
   "outputs": [],
   "source": [
    "movie_loc"
   ]
  },
  {
   "cell_type": "code",
   "execution_count": null,
   "id": "2a368d45-9563-400a-8f29-7eebb19b9fc3",
   "metadata": {},
   "outputs": [],
   "source": [
    "all_genres = \"Action, Adventure, Animation, Comedy, Crime, Documentary, Drama, Family, Fantasy, History, Horror, Music, Mystery, Romance, Science Fiction, Thriller, TV Movie, War,Western\""
   ]
  },
  {
   "cell_type": "code",
   "execution_count": null,
   "id": "c8bb473f-2fa4-41f3-9f27-efea0425a94d",
   "metadata": {},
   "outputs": [],
   "source": [
    "all_genres = [x.strip() for x in all_genres.split(',')]"
   ]
  },
  {
   "cell_type": "code",
   "execution_count": null,
   "id": "e0970d51-2ce8-4ee5-8fb4-ea5157a9e649",
   "metadata": {},
   "outputs": [],
   "source": [
    "dump(all_genres, './all_genres.joblib')"
   ]
  },
  {
   "cell_type": "code",
   "execution_count": null,
   "id": "25d4f86d-7ec6-46cd-a30b-866c4af11487",
   "metadata": {},
   "outputs": [],
   "source": [
    "popular_movies_list = newdf.groupby('item_id')['user_id'].count().sort_values(ascending=False).index"
   ]
  },
  {
   "cell_type": "code",
   "execution_count": null,
   "id": "ea49d1db-ee2e-4997-ae12-6df2e5c53b18",
   "metadata": {},
   "outputs": [],
   "source": [
    "dump(popular_movies_list, './popular_movies_list.joblib')"
   ]
  },
  {
   "cell_type": "code",
   "execution_count": null,
   "id": "ecb8e08f-14f9-43a0-b7fd-b138940e07dc",
   "metadata": {},
   "outputs": [],
   "source": []
  }
 ],
 "metadata": {
  "kernelspec": {
   "display_name": "Python 3 (ipykernel)",
   "language": "python",
   "name": "python3"
  },
  "language_info": {
   "codemirror_mode": {
    "name": "ipython",
    "version": 3
   },
   "file_extension": ".py",
   "mimetype": "text/x-python",
   "name": "python",
   "nbconvert_exporter": "python",
   "pygments_lexer": "ipython3",
   "version": "3.9.12"
  }
 },
 "nbformat": 4,
 "nbformat_minor": 5
}
